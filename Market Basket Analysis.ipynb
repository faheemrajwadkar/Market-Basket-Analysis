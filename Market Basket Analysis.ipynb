{
 "cells": [
  {
   "cell_type": "code",
   "execution_count": 1,
   "id": "23dcbaa5-59fe-4a25-8119-f69bfa93f633",
   "metadata": {},
   "outputs": [],
   "source": [
    "import pandas as pd\n",
    "import numpy as np\n",
    "import seaborn as sns\n",
    "import matplotlib.pyplot as plt\n",
    "\n",
    "# hide warnings\n",
    "import warnings\n",
    "warnings.filterwarnings('ignore')\n",
    "\n",
    "# print all columns\n",
    "pd.set_option('display.max_columns', None)\n",
    "pd.set_option('display.max_rows', None)"
   ]
  },
  {
   "cell_type": "markdown",
   "id": "c7a0efd1-3e9f-4e0e-9d45-00ee5862f2d8",
   "metadata": {},
   "source": [
    "- The data for Market Basket Analysis comes in many form which has to be transformed to use with the `apyori` package.\n",
    "- We will take two examples of such data and do the analyses.\n",
    "    1. **Basic Example** - Comma separated dataset having each record as products sold in a single transaction.\n",
    "    2. **Advanced Example** - Dataset with columns haivng different features and one column for products and each row representing single product."
   ]
  },
  {
   "cell_type": "markdown",
   "id": "e3419145-9cd1-4105-acce-159a338f30ca",
   "metadata": {},
   "source": [
    "# 1. Basic Example"
   ]
  },
  {
   "cell_type": "markdown",
   "id": "75270145-2bec-43eb-bb4a-4a08a7833413",
   "metadata": {},
   "source": [
    "Comma separated dataset having each record as products sold in a single transaction."
   ]
  },
  {
   "cell_type": "code",
   "execution_count": 2,
   "id": "27958351-f3e4-4692-9706-872655d15037",
   "metadata": {},
   "outputs": [
    {
     "data": {
      "text/html": [
       "<div>\n",
       "<style scoped>\n",
       "    .dataframe tbody tr th:only-of-type {\n",
       "        vertical-align: middle;\n",
       "    }\n",
       "\n",
       "    .dataframe tbody tr th {\n",
       "        vertical-align: top;\n",
       "    }\n",
       "\n",
       "    .dataframe thead th {\n",
       "        text-align: right;\n",
       "    }\n",
       "</style>\n",
       "<table border=\"1\" class=\"dataframe\">\n",
       "  <thead>\n",
       "    <tr style=\"text-align: right;\">\n",
       "      <th></th>\n",
       "      <th>0</th>\n",
       "      <th>1</th>\n",
       "      <th>2</th>\n",
       "      <th>3</th>\n",
       "      <th>4</th>\n",
       "      <th>5</th>\n",
       "      <th>6</th>\n",
       "      <th>7</th>\n",
       "      <th>8</th>\n",
       "      <th>9</th>\n",
       "      <th>10</th>\n",
       "      <th>11</th>\n",
       "      <th>12</th>\n",
       "      <th>13</th>\n",
       "      <th>14</th>\n",
       "      <th>15</th>\n",
       "      <th>16</th>\n",
       "      <th>17</th>\n",
       "      <th>18</th>\n",
       "      <th>19</th>\n",
       "    </tr>\n",
       "  </thead>\n",
       "  <tbody>\n",
       "    <tr>\n",
       "      <th>0</th>\n",
       "      <td>shrimp</td>\n",
       "      <td>almonds</td>\n",
       "      <td>avocado</td>\n",
       "      <td>vegetables mix</td>\n",
       "      <td>green grapes</td>\n",
       "      <td>whole weat flour</td>\n",
       "      <td>yams</td>\n",
       "      <td>cottage cheese</td>\n",
       "      <td>energy drink</td>\n",
       "      <td>tomato juice</td>\n",
       "      <td>low fat yogurt</td>\n",
       "      <td>green tea</td>\n",
       "      <td>honey</td>\n",
       "      <td>salad</td>\n",
       "      <td>mineral water</td>\n",
       "      <td>salmon</td>\n",
       "      <td>antioxydant juice</td>\n",
       "      <td>frozen smoothie</td>\n",
       "      <td>spinach</td>\n",
       "      <td>olive oil</td>\n",
       "    </tr>\n",
       "    <tr>\n",
       "      <th>1</th>\n",
       "      <td>burgers</td>\n",
       "      <td>meatballs</td>\n",
       "      <td>eggs</td>\n",
       "      <td>NaN</td>\n",
       "      <td>NaN</td>\n",
       "      <td>NaN</td>\n",
       "      <td>NaN</td>\n",
       "      <td>NaN</td>\n",
       "      <td>NaN</td>\n",
       "      <td>NaN</td>\n",
       "      <td>NaN</td>\n",
       "      <td>NaN</td>\n",
       "      <td>NaN</td>\n",
       "      <td>NaN</td>\n",
       "      <td>NaN</td>\n",
       "      <td>NaN</td>\n",
       "      <td>NaN</td>\n",
       "      <td>NaN</td>\n",
       "      <td>NaN</td>\n",
       "      <td>NaN</td>\n",
       "    </tr>\n",
       "    <tr>\n",
       "      <th>2</th>\n",
       "      <td>chutney</td>\n",
       "      <td>NaN</td>\n",
       "      <td>NaN</td>\n",
       "      <td>NaN</td>\n",
       "      <td>NaN</td>\n",
       "      <td>NaN</td>\n",
       "      <td>NaN</td>\n",
       "      <td>NaN</td>\n",
       "      <td>NaN</td>\n",
       "      <td>NaN</td>\n",
       "      <td>NaN</td>\n",
       "      <td>NaN</td>\n",
       "      <td>NaN</td>\n",
       "      <td>NaN</td>\n",
       "      <td>NaN</td>\n",
       "      <td>NaN</td>\n",
       "      <td>NaN</td>\n",
       "      <td>NaN</td>\n",
       "      <td>NaN</td>\n",
       "      <td>NaN</td>\n",
       "    </tr>\n",
       "    <tr>\n",
       "      <th>3</th>\n",
       "      <td>turkey</td>\n",
       "      <td>avocado</td>\n",
       "      <td>NaN</td>\n",
       "      <td>NaN</td>\n",
       "      <td>NaN</td>\n",
       "      <td>NaN</td>\n",
       "      <td>NaN</td>\n",
       "      <td>NaN</td>\n",
       "      <td>NaN</td>\n",
       "      <td>NaN</td>\n",
       "      <td>NaN</td>\n",
       "      <td>NaN</td>\n",
       "      <td>NaN</td>\n",
       "      <td>NaN</td>\n",
       "      <td>NaN</td>\n",
       "      <td>NaN</td>\n",
       "      <td>NaN</td>\n",
       "      <td>NaN</td>\n",
       "      <td>NaN</td>\n",
       "      <td>NaN</td>\n",
       "    </tr>\n",
       "    <tr>\n",
       "      <th>4</th>\n",
       "      <td>mineral water</td>\n",
       "      <td>milk</td>\n",
       "      <td>energy bar</td>\n",
       "      <td>whole wheat rice</td>\n",
       "      <td>green tea</td>\n",
       "      <td>NaN</td>\n",
       "      <td>NaN</td>\n",
       "      <td>NaN</td>\n",
       "      <td>NaN</td>\n",
       "      <td>NaN</td>\n",
       "      <td>NaN</td>\n",
       "      <td>NaN</td>\n",
       "      <td>NaN</td>\n",
       "      <td>NaN</td>\n",
       "      <td>NaN</td>\n",
       "      <td>NaN</td>\n",
       "      <td>NaN</td>\n",
       "      <td>NaN</td>\n",
       "      <td>NaN</td>\n",
       "      <td>NaN</td>\n",
       "    </tr>\n",
       "  </tbody>\n",
       "</table>\n",
       "</div>"
      ],
      "text/plain": [
       "              0          1           2                 3             4   \\\n",
       "0         shrimp    almonds     avocado    vegetables mix  green grapes   \n",
       "1        burgers  meatballs        eggs               NaN           NaN   \n",
       "2        chutney        NaN         NaN               NaN           NaN   \n",
       "3         turkey    avocado         NaN               NaN           NaN   \n",
       "4  mineral water       milk  energy bar  whole wheat rice     green tea   \n",
       "\n",
       "                 5     6               7             8             9   \\\n",
       "0  whole weat flour  yams  cottage cheese  energy drink  tomato juice   \n",
       "1               NaN   NaN             NaN           NaN           NaN   \n",
       "2               NaN   NaN             NaN           NaN           NaN   \n",
       "3               NaN   NaN             NaN           NaN           NaN   \n",
       "4               NaN   NaN             NaN           NaN           NaN   \n",
       "\n",
       "               10         11     12     13             14      15  \\\n",
       "0  low fat yogurt  green tea  honey  salad  mineral water  salmon   \n",
       "1             NaN        NaN    NaN    NaN            NaN     NaN   \n",
       "2             NaN        NaN    NaN    NaN            NaN     NaN   \n",
       "3             NaN        NaN    NaN    NaN            NaN     NaN   \n",
       "4             NaN        NaN    NaN    NaN            NaN     NaN   \n",
       "\n",
       "                  16               17       18         19  \n",
       "0  antioxydant juice  frozen smoothie  spinach  olive oil  \n",
       "1                NaN              NaN      NaN        NaN  \n",
       "2                NaN              NaN      NaN        NaN  \n",
       "3                NaN              NaN      NaN        NaN  \n",
       "4                NaN              NaN      NaN        NaN  "
      ]
     },
     "execution_count": 2,
     "metadata": {},
     "output_type": "execute_result"
    }
   ],
   "source": [
    "# import data\n",
    "df1 = pd.read_csv('online_retail_basic.csv', header = None)\n",
    "df1.head()"
   ]
  },
  {
   "cell_type": "code",
   "execution_count": 3,
   "id": "4f94d80e-57aa-4020-ab07-234b4857e0d5",
   "metadata": {},
   "outputs": [
    {
     "data": {
      "text/plain": [
       "(7501, 20)"
      ]
     },
     "execution_count": 3,
     "metadata": {},
     "output_type": "execute_result"
    }
   ],
   "source": [
    "df1.shape"
   ]
  },
  {
   "cell_type": "markdown",
   "id": "9215b9ce-3367-47df-9206-cb018140312d",
   "metadata": {},
   "source": [
    "- We have a dataset with **7,501 transactions** and each transaction has **at most 20 products**.\n",
    "- We will now convert this data into the structure required for `apyori` package i.e. `list` of transactions and each transaction represnted as a `tuple`."
   ]
  },
  {
   "cell_type": "code",
   "execution_count": 4,
   "id": "c59e9e02-1446-477f-a777-2204308933e0",
   "metadata": {},
   "outputs": [
    {
     "name": "stdout",
     "output_type": "stream",
     "text": [
      "Wall time: 5.29 s\n"
     ]
    }
   ],
   "source": [
    "%%time\n",
    "\n",
    "records = []\n",
    "for i in range(len(df1)):\n",
    "    records.append(tuple(df1.loc[i, pd.notna(df1.iloc[i, :])]))"
   ]
  },
  {
   "cell_type": "code",
   "execution_count": 5,
   "id": "a8f23493-8d78-4fc2-8a1a-2a290cc3f243",
   "metadata": {},
   "outputs": [
    {
     "name": "stdout",
     "output_type": "stream",
     "text": [
      "1 - ('shrimp', 'almonds', 'avocado', 'vegetables mix', 'green grapes', 'whole weat flour', 'yams', 'cottage cheese', 'energy drink', 'tomato juice', 'low fat yogurt', 'green tea', 'honey', 'salad', 'mineral water', 'salmon', 'antioxydant juice', 'frozen smoothie', 'spinach', 'olive oil')\n",
      "2 - ('burgers', 'meatballs', 'eggs')\n",
      "3 - ('chutney',)\n",
      "4 - ('turkey', 'avocado')\n",
      "5 - ('mineral water', 'milk', 'energy bar', 'whole wheat rice', 'green tea')\n"
     ]
    }
   ],
   "source": [
    "for e in range(5):\n",
    "    print(e+1, records[e], sep = \" - \")"
   ]
  },
  {
   "cell_type": "markdown",
   "id": "1abcb258-ae81-4e28-bf1a-a5ca93633311",
   "metadata": {
    "tags": []
   },
   "source": [
    "### `apyori.apriori`"
   ]
  },
  {
   "cell_type": "code",
   "execution_count": 6,
   "id": "48b31fa1-4980-4863-8974-b91d01dec1c6",
   "metadata": {},
   "outputs": [],
   "source": [
    "# Apriori Algorithm\n",
    "from apyori import apriori\n",
    "\n",
    "association_rules = apriori(transactions = records,\n",
    "                            min_support = .0045,     # consider items(sets) appearing 0.45% of the time\n",
    "                            min_confidence = 0.2,\n",
    "                            min_lift = 3,\n",
    "                            min_length = 2     # minimum items in an itemset\n",
    "                           )"
   ]
  },
  {
   "cell_type": "code",
   "execution_count": 7,
   "id": "8847d1e8-8df6-400c-a0d2-c3a7866c5458",
   "metadata": {},
   "outputs": [],
   "source": [
    "association_results = list(association_rules)"
   ]
  },
  {
   "cell_type": "code",
   "execution_count": 8,
   "id": "0ae40e47-ab60-435a-ab92-5bcebe639494",
   "metadata": {},
   "outputs": [
    {
     "data": {
      "text/plain": [
       "24"
      ]
     },
     "execution_count": 8,
     "metadata": {},
     "output_type": "execute_result"
    }
   ],
   "source": [
    "len(association_results)"
   ]
  },
  {
   "cell_type": "code",
   "execution_count": 9,
   "id": "52bfead5-b299-4902-a028-2117fd311497",
   "metadata": {},
   "outputs": [
    {
     "name": "stdout",
     "output_type": "stream",
     "text": [
      "1 - RelationRecord(items=frozenset({'light cream', 'chicken'}), support=0.004532728969470737, ordered_statistics=[OrderedStatistic(items_base=frozenset({'light cream'}), items_add=frozenset({'chicken'}), confidence=0.29059829059829057, lift=4.84395061728395)])\n",
      "2 - RelationRecord(items=frozenset({'escalope', 'mushroom cream sauce'}), support=0.005732568990801226, ordered_statistics=[OrderedStatistic(items_base=frozenset({'mushroom cream sauce'}), items_add=frozenset({'escalope'}), confidence=0.3006993006993007, lift=3.790832696715049)])\n",
      "3 - RelationRecord(items=frozenset({'escalope', 'pasta'}), support=0.005865884548726837, ordered_statistics=[OrderedStatistic(items_base=frozenset({'pasta'}), items_add=frozenset({'escalope'}), confidence=0.3728813559322034, lift=4.700811850163794)])\n",
      "4 - RelationRecord(items=frozenset({'ground beef', 'herb & pepper'}), support=0.015997866951073192, ordered_statistics=[OrderedStatistic(items_base=frozenset({'herb & pepper'}), items_add=frozenset({'ground beef'}), confidence=0.3234501347708895, lift=3.2919938411349285)])\n",
      "5 - RelationRecord(items=frozenset({'tomato sauce', 'ground beef'}), support=0.005332622317024397, ordered_statistics=[OrderedStatistic(items_base=frozenset({'tomato sauce'}), items_add=frozenset({'ground beef'}), confidence=0.3773584905660377, lift=3.840659481324083)])\n"
     ]
    }
   ],
   "source": [
    "for e in range(5):\n",
    "    print(e+1, association_results[e], sep = \" - \")"
   ]
  },
  {
   "cell_type": "raw",
   "id": "26dce4bf-f237-4c1d-b176-6c550af7e1ab",
   "metadata": {},
   "source": [
    "This is how the output of a rule looks - \n",
    "\n",
    "In OrderedStatictic, both [beer -> nuts] and [nuts -> beer] rules' statistics will be given.\n",
    "\n",
    "RelationRecord(items=frozenset({'beer', 'nuts'}),\n",
    "               support=0.5,\n",
    "               ordered_statistics=[OrderedStatistic(items_base=frozenset({'beer'}),\n",
    "                                                    items_add=frozenset({'nuts'}),\n",
    "                                                    confidence=0.5,\n",
    "                                                    lift=1.0),\n",
    "                                   OrderedStatistic(items_base=frozenset({'nuts'}),\n",
    "                                                    items_add=frozenset({'beer'}),\n",
    "                                                    confidence=1.0,\n",
    "                                                    lift=1.0)])"
   ]
  },
  {
   "cell_type": "code",
   "execution_count": 10,
   "id": "88d28611-7085-47c2-96ee-40c5689c33ff",
   "metadata": {},
   "outputs": [
    {
     "name": "stdout",
     "output_type": "stream",
     "text": [
      "Rule: light cream -> chicken\n",
      "Support: 0.004532728969470737\n",
      "Confidence: 0.29059829059829057\n",
      "Lift: 4.84395061728395\n",
      "=====================================\n",
      "Rule: escalope -> mushroom cream sauce\n",
      "Support: 0.005732568990801226\n",
      "Confidence: 0.3006993006993007\n",
      "Lift: 3.790832696715049\n",
      "=====================================\n",
      "Rule: escalope -> pasta\n",
      "Support: 0.005865884548726837\n",
      "Confidence: 0.3728813559322034\n",
      "Lift: 4.700811850163794\n",
      "=====================================\n",
      "Rule: ground beef -> herb & pepper\n",
      "Support: 0.015997866951073192\n",
      "Confidence: 0.3234501347708895\n",
      "Lift: 3.2919938411349285\n",
      "=====================================\n",
      "Rule: tomato sauce -> ground beef\n",
      "Support: 0.005332622317024397\n",
      "Confidence: 0.3773584905660377\n",
      "Lift: 3.840659481324083\n",
      "=====================================\n"
     ]
    }
   ],
   "source": [
    "# print rules in proper format\n",
    "for item in association_results[:5]:\n",
    "\n",
    "    # first index of the inner list\n",
    "    # Contains base item and add item\n",
    "    pair = item[0] \n",
    "    items = [x for x in pair]\n",
    "    print(\"Rule: \" + items[0] + \" -> \" + items[1])\n",
    "\n",
    "    #second index of the inner list\n",
    "    print(\"Support: \" + str(item[1]))\n",
    "\n",
    "    #third index of the list located at 0th\n",
    "    #of the third index of the inner list\n",
    "\n",
    "    print(\"Confidence: \" + str(item[2][0][2]))\n",
    "    print(\"Lift: \" + str(item[2][0][3]))\n",
    "    print(\"=====================================\")"
   ]
  },
  {
   "cell_type": "markdown",
   "id": "68a846d4-9f87-4ca6-9e33-b9c404d85f85",
   "metadata": {
    "tags": []
   },
   "source": [
    "### `efficient-apriori`"
   ]
  },
  {
   "cell_type": "markdown",
   "id": "8ddd05a4-6026-49ba-92c0-40f9dd723c2d",
   "metadata": {},
   "source": [
    "- The `apyori` library is very limited in that the proper interpretation of results, exploration of itemsets etc. needs added coding. \n",
    "- We will now use the `efficient-apriori` library to overcome these limitations."
   ]
  },
  {
   "cell_type": "code",
   "execution_count": 11,
   "id": "f2a6bd1e-fd68-43a5-8044-eced93783535",
   "metadata": {},
   "outputs": [],
   "source": [
    "from efficient_apriori import apriori\n",
    "\n",
    "itemsets, rules = apriori(transactions = records,\n",
    "                          min_support = 0.0045,\n",
    "                          min_confidence = 0.2\n",
    "                         )"
   ]
  },
  {
   "cell_type": "markdown",
   "id": "272e1cd3-5160-4eb1-8831-3836057d871f",
   "metadata": {},
   "source": [
    "- We can now print a rule and check it's stats"
   ]
  },
  {
   "cell_type": "code",
   "execution_count": 12,
   "id": "482709b2-b8fe-44f0-b281-f741eaf2ab89",
   "metadata": {},
   "outputs": [
    {
     "name": "stdout",
     "output_type": "stream",
     "text": [
      "{almonds} -> {burgers} (conf: 0.255, supp: 0.005, lift: 2.924, conv: 1.225)\n"
     ]
    }
   ],
   "source": [
    "# print only one rule\n",
    "print(rules[0])"
   ]
  },
  {
   "cell_type": "markdown",
   "id": "867e6986-24b0-402b-800c-3d661cb37103",
   "metadata": {},
   "source": [
    "- Or, print rules based on the format we need them in or conditionally"
   ]
  },
  {
   "cell_type": "code",
   "execution_count": 13,
   "id": "a08f3e89-910d-40fa-b7ca-d73ed62638dd",
   "metadata": {},
   "outputs": [
    {
     "name": "stdout",
     "output_type": "stream",
     "text": [
      "{herb & pepper, spaghetti} -> {ground beef} (conf: 0.393, supp: 0.006, lift: 4.004, conv: 1.487)\n",
      "{herb & pepper, mineral water} -> {ground beef} (conf: 0.391, supp: 0.007, lift: 3.976, conv: 1.480)\n",
      "{frozen vegetables, spaghetti} -> {tomatoes} (conf: 0.239, supp: 0.007, lift: 3.498, conv: 1.225)\n",
      "{mineral water, soup} -> {olive oil} (conf: 0.225, supp: 0.005, lift: 3.423, conv: 1.206)\n",
      "{ground beef, milk} -> {olive oil} (conf: 0.224, supp: 0.005, lift: 3.405, conv: 1.204)\n",
      "{spaghetti, tomatoes} -> {frozen vegetables} (conf: 0.318, supp: 0.007, lift: 3.341, conv: 1.327)\n",
      "{grated cheese, spaghetti} -> {ground beef} (conf: 0.323, supp: 0.005, lift: 3.283, conv: 1.331)\n",
      "{cooking oil, ground beef} -> {spaghetti} (conf: 0.571, supp: 0.005, lift: 3.282, conv: 1.927)\n",
      "{frozen vegetables, olive oil} -> {milk} (conf: 0.424, supp: 0.005, lift: 3.268, conv: 1.510)\n",
      "{chocolate, frozen vegetables} -> {shrimp} (conf: 0.233, supp: 0.005, lift: 3.255, conv: 1.210)\n"
     ]
    }
   ],
   "source": [
    "# print in format - 2 items -> 1 item\n",
    "## filter such rules \n",
    "rules_rhs = filter(lambda rule: len(rule.lhs) == 2 and len(rule.rhs) == 1, rules)\n",
    "\n",
    "## print the rules sorted by lift ; top 10\n",
    "for rule in sorted(rules_rhs, key = lambda rule: rule.lift, reverse=True)[:10]:\n",
    "    print(rule)"
   ]
  },
  {
   "cell_type": "code",
   "execution_count": 14,
   "id": "6e1a8678-fe0d-4fb1-a4c1-c7a2a119b94a",
   "metadata": {},
   "outputs": [
    {
     "name": "stdout",
     "output_type": "stream",
     "text": [
      "{frozen vegetables, soup} -> {mineral water} (conf: 0.633, supp: 0.005, lift: 2.657, conv: 2.077)\n",
      "{cooking oil, pancakes} -> {mineral water} (conf: 0.593, supp: 0.005, lift: 2.489, conv: 1.872)\n",
      "{olive oil, soup} -> {mineral water} (conf: 0.582, supp: 0.005, lift: 2.442, conv: 1.822)\n",
      "{frozen vegetables, olive oil} -> {mineral water} (conf: 0.576, supp: 0.007, lift: 2.418, conv: 1.798)\n",
      "{cooking oil, ground beef} -> {spaghetti} (conf: 0.571, supp: 0.005, lift: 3.282, conv: 1.927)\n",
      "{milk, soup} -> {mineral water} (conf: 0.561, supp: 0.009, lift: 2.355, conv: 1.737)\n",
      "{olive oil, shrimp} -> {mineral water} (conf: 0.557, supp: 0.005, lift: 2.338, conv: 1.721)\n",
      "{chocolate, soup} -> {mineral water} (conf: 0.553, supp: 0.006, lift: 2.318, conv: 1.702)\n"
     ]
    }
   ],
   "source": [
    "# print in above format but only rules with confidence >= 0.55\n",
    "## print the rules sorted by confidence ; top 10\n",
    "rules_rhs = filter(lambda rule: len(rule.lhs) == 2 and len(rule.rhs) == 1 and rule.confidence >= 0.55, rules)\n",
    "\n",
    "for rule in sorted(rules_rhs, key = lambda rule: rule.confidence, reverse=True)[:10]:\n",
    "    print(rule)"
   ]
  },
  {
   "cell_type": "code",
   "execution_count": 15,
   "id": "88614027-7daf-4f31-b8cd-5af5a17c52c9",
   "metadata": {},
   "outputs": [
    {
     "name": "stdout",
     "output_type": "stream",
     "text": [
      "{chocolate, mineral water, spaghetti} -> {milk} (conf: 0.311, supp: 0.005, lift: 2.399, conv: 1.263)\n",
      "{chocolate, milk, mineral water} -> {spaghetti} (conf: 0.352, supp: 0.005, lift: 2.024, conv: 1.275)\n",
      "{milk, mineral water, spaghetti} -> {frozen vegetables} (conf: 0.288, supp: 0.005, lift: 3.023, conv: 1.271)\n",
      "{frozen vegetables, mineral water, spaghetti} -> {milk} (conf: 0.378, supp: 0.005, lift: 2.915, conv: 1.399)\n",
      "{frozen vegetables, milk, spaghetti} -> {mineral water} (conf: 0.548, supp: 0.005, lift: 2.301, conv: 1.686)\n",
      "{frozen vegetables, milk, mineral water} -> {spaghetti} (conf: 0.410, supp: 0.005, lift: 2.353, conv: 1.399)\n"
     ]
    }
   ],
   "source": [
    "# print in format - 3 items -> 1 item but only rules with lift >= 2\n",
    "## print the rules sorted by support ; top 10\n",
    "rules_rhs = filter(lambda rule: len(rule.lhs) == 3 and len(rule.rhs) == 1 and rule.lift >= 2, rules)\n",
    "\n",
    "for rule in sorted(rules_rhs, key = lambda rule: rule.support, reverse=True)[:10]:\n",
    "    print(rule)"
   ]
  },
  {
   "cell_type": "markdown",
   "id": "0c894f32-224c-419e-9633-f9e53c69fe10",
   "metadata": {},
   "source": [
    "- `itemsets` has all the itemsets in a nested dictionary with each dictionary having sub-dictionaries of same length of itemset and their frequencies as well.\n",
    "- e.g., we have dictionaries with itemsets having 1, 2, 3 and 4 items each."
   ]
  },
  {
   "cell_type": "code",
   "execution_count": 16,
   "id": "5ffb5fb4-e57f-426d-a782-68dfcdea6d3e",
   "metadata": {},
   "outputs": [
    {
     "data": {
      "text/plain": [
       "dict_keys([1, 2, 3, 4])"
      ]
     },
     "execution_count": 16,
     "metadata": {},
     "output_type": "execute_result"
    }
   ],
   "source": [
    "itemsets.keys()"
   ]
  },
  {
   "cell_type": "code",
   "execution_count": 17,
   "id": "d9262fa4-9daf-4fb8-b59c-e536b67adce4",
   "metadata": {},
   "outputs": [
    {
     "name": "stdout",
     "output_type": "stream",
     "text": [
      "('shrimp',) 536\n",
      "('low fat yogurt',) 574\n",
      "('green tea',) 991\n",
      "('mineral water',) 1788\n",
      "('burgers',) 654\n",
      "('eggs',) 1348\n",
      "('milk',) 972\n",
      "('french fries',) 1282\n",
      "('frozen vegetables',) 715\n",
      "('spaghetti',) 1306\n",
      "('cookies',) 603\n",
      "('chocolate',) 1229\n",
      "('tomatoes',) 513\n",
      "('pancakes',) 713\n",
      "('ground beef',) 737\n",
      "('escalope',) 595\n",
      "('cake',) 608\n"
     ]
    }
   ],
   "source": [
    "# check frequency of each itemset (freq >= 500)\n",
    "\n",
    "# create a dictionary of items with value >= 500\n",
    "d = dict((keys, values) for keys, values in itemsets[1].items() if values >= 500)\n",
    "\n",
    "# print the new dict\n",
    "for k,v in d.items():\n",
    "    print(k, v)"
   ]
  },
  {
   "cell_type": "markdown",
   "id": "a76ab82a-dae9-43c1-bd05-b137c206faa0",
   "metadata": {},
   "source": [
    "# 2. Advanced Example"
   ]
  },
  {
   "cell_type": "markdown",
   "id": "77426d54-e96a-4481-8237-5eb97d9282c0",
   "metadata": {},
   "source": [
    "Dataset with columns haivng different features and one column for products and each row representing single product."
   ]
  },
  {
   "cell_type": "code",
   "execution_count": 18,
   "id": "50e20942-33d8-45df-8f67-bf04bc6b4be6",
   "metadata": {},
   "outputs": [
    {
     "data": {
      "text/html": [
       "<div>\n",
       "<style scoped>\n",
       "    .dataframe tbody tr th:only-of-type {\n",
       "        vertical-align: middle;\n",
       "    }\n",
       "\n",
       "    .dataframe tbody tr th {\n",
       "        vertical-align: top;\n",
       "    }\n",
       "\n",
       "    .dataframe thead th {\n",
       "        text-align: right;\n",
       "    }\n",
       "</style>\n",
       "<table border=\"1\" class=\"dataframe\">\n",
       "  <thead>\n",
       "    <tr style=\"text-align: right;\">\n",
       "      <th></th>\n",
       "      <th>InvoiceNo</th>\n",
       "      <th>StockCode</th>\n",
       "      <th>Description</th>\n",
       "      <th>Quantity</th>\n",
       "      <th>InvoiceDate</th>\n",
       "      <th>UnitPrice</th>\n",
       "      <th>CustomerID</th>\n",
       "      <th>Country</th>\n",
       "    </tr>\n",
       "  </thead>\n",
       "  <tbody>\n",
       "    <tr>\n",
       "      <th>0</th>\n",
       "      <td>536365</td>\n",
       "      <td>85123A</td>\n",
       "      <td>WHITE HANGING HEART T-LIGHT HOLDER</td>\n",
       "      <td>6</td>\n",
       "      <td>12/1/2010 8:26</td>\n",
       "      <td>2.55</td>\n",
       "      <td>17850.0</td>\n",
       "      <td>United Kingdom</td>\n",
       "    </tr>\n",
       "    <tr>\n",
       "      <th>1</th>\n",
       "      <td>536365</td>\n",
       "      <td>71053</td>\n",
       "      <td>WHITE METAL LANTERN</td>\n",
       "      <td>6</td>\n",
       "      <td>12/1/2010 8:26</td>\n",
       "      <td>3.39</td>\n",
       "      <td>17850.0</td>\n",
       "      <td>United Kingdom</td>\n",
       "    </tr>\n",
       "    <tr>\n",
       "      <th>2</th>\n",
       "      <td>536365</td>\n",
       "      <td>84406B</td>\n",
       "      <td>CREAM CUPID HEARTS COAT HANGER</td>\n",
       "      <td>8</td>\n",
       "      <td>12/1/2010 8:26</td>\n",
       "      <td>2.75</td>\n",
       "      <td>17850.0</td>\n",
       "      <td>United Kingdom</td>\n",
       "    </tr>\n",
       "    <tr>\n",
       "      <th>3</th>\n",
       "      <td>536365</td>\n",
       "      <td>84029G</td>\n",
       "      <td>KNITTED UNION FLAG HOT WATER BOTTLE</td>\n",
       "      <td>6</td>\n",
       "      <td>12/1/2010 8:26</td>\n",
       "      <td>3.39</td>\n",
       "      <td>17850.0</td>\n",
       "      <td>United Kingdom</td>\n",
       "    </tr>\n",
       "    <tr>\n",
       "      <th>4</th>\n",
       "      <td>536365</td>\n",
       "      <td>84029E</td>\n",
       "      <td>RED WOOLLY HOTTIE WHITE HEART.</td>\n",
       "      <td>6</td>\n",
       "      <td>12/1/2010 8:26</td>\n",
       "      <td>3.39</td>\n",
       "      <td>17850.0</td>\n",
       "      <td>United Kingdom</td>\n",
       "    </tr>\n",
       "  </tbody>\n",
       "</table>\n",
       "</div>"
      ],
      "text/plain": [
       "  InvoiceNo StockCode                          Description  Quantity  \\\n",
       "0    536365    85123A   WHITE HANGING HEART T-LIGHT HOLDER         6   \n",
       "1    536365     71053                  WHITE METAL LANTERN         6   \n",
       "2    536365    84406B       CREAM CUPID HEARTS COAT HANGER         8   \n",
       "3    536365    84029G  KNITTED UNION FLAG HOT WATER BOTTLE         6   \n",
       "4    536365    84029E       RED WOOLLY HOTTIE WHITE HEART.         6   \n",
       "\n",
       "      InvoiceDate  UnitPrice  CustomerID         Country  \n",
       "0  12/1/2010 8:26       2.55     17850.0  United Kingdom  \n",
       "1  12/1/2010 8:26       3.39     17850.0  United Kingdom  \n",
       "2  12/1/2010 8:26       2.75     17850.0  United Kingdom  \n",
       "3  12/1/2010 8:26       3.39     17850.0  United Kingdom  \n",
       "4  12/1/2010 8:26       3.39     17850.0  United Kingdom  "
      ]
     },
     "execution_count": 18,
     "metadata": {},
     "output_type": "execute_result"
    }
   ],
   "source": [
    "df2 = pd.read_csv('online_retail_advanced.csv')\n",
    "df2.dropna(inplace = True)\n",
    "df2.head()"
   ]
  },
  {
   "cell_type": "code",
   "execution_count": 19,
   "id": "c68eea95-7f09-450d-bb1d-62015714f29e",
   "metadata": {},
   "outputs": [
    {
     "data": {
      "text/plain": [
       "(406829, 8)"
      ]
     },
     "execution_count": 19,
     "metadata": {},
     "output_type": "execute_result"
    }
   ],
   "source": [
    "df2.shape"
   ]
  },
  {
   "cell_type": "code",
   "execution_count": 20,
   "id": "e848df5a-25f5-49b8-b6ca-c361addf8972",
   "metadata": {},
   "outputs": [
    {
     "data": {
      "text/plain": [
       "22190"
      ]
     },
     "execution_count": 20,
     "metadata": {},
     "output_type": "execute_result"
    }
   ],
   "source": [
    "df2.InvoiceNo.nunique()"
   ]
  },
  {
   "cell_type": "markdown",
   "id": "5f81c86a-6170-4d1b-9473-2c103d913fe5",
   "metadata": {},
   "source": [
    "- There are 22,190 transactions in the dataset and each record represents a product in each transaction.\n",
    "- Now, we have to arrange the data in transactional form and to do so we will have to do so in three steps - \n",
    "    1. Select the column that separates each transaction - `InvoiceNo` and `date` from `InvoiceDate` (create `date` to remove time from `InvoiceDate`)\n",
    "    2. Drop remaining features\n",
    "    2. `pivot` the data and then convert `Description` into a single row of products per transaction"
   ]
  },
  {
   "cell_type": "code",
   "execution_count": 21,
   "id": "d5ba8d5b-daa0-428b-95b9-b6232cf2dd86",
   "metadata": {},
   "outputs": [
    {
     "data": {
      "text/plain": [
       "0    2010-12-01\n",
       "1    2010-12-01\n",
       "2    2010-12-01\n",
       "3    2010-12-01\n",
       "4    2010-12-01\n",
       "Name: InvoiceDate, dtype: object"
      ]
     },
     "execution_count": 21,
     "metadata": {},
     "output_type": "execute_result"
    }
   ],
   "source": [
    "# date column\n",
    "date = pd.to_datetime(df2['InvoiceDate']).dt.date\n",
    "date[:5]"
   ]
  },
  {
   "cell_type": "code",
   "execution_count": 22,
   "id": "6b9e3dc5-77dc-43a7-8256-e4f4df55b621",
   "metadata": {},
   "outputs": [
    {
     "data": {
      "text/html": [
       "<div>\n",
       "<style scoped>\n",
       "    .dataframe tbody tr th:only-of-type {\n",
       "        vertical-align: middle;\n",
       "    }\n",
       "\n",
       "    .dataframe tbody tr th {\n",
       "        vertical-align: top;\n",
       "    }\n",
       "\n",
       "    .dataframe thead th {\n",
       "        text-align: right;\n",
       "    }\n",
       "</style>\n",
       "<table border=\"1\" class=\"dataframe\">\n",
       "  <thead>\n",
       "    <tr style=\"text-align: right;\">\n",
       "      <th></th>\n",
       "      <th>InvoiceNo</th>\n",
       "      <th>Description</th>\n",
       "      <th>date</th>\n",
       "    </tr>\n",
       "  </thead>\n",
       "  <tbody>\n",
       "    <tr>\n",
       "      <th>0</th>\n",
       "      <td>536365</td>\n",
       "      <td>WHITE HANGING HEART T-LIGHT HOLDER</td>\n",
       "      <td>2010-12-01</td>\n",
       "    </tr>\n",
       "    <tr>\n",
       "      <th>1</th>\n",
       "      <td>536365</td>\n",
       "      <td>WHITE METAL LANTERN</td>\n",
       "      <td>2010-12-01</td>\n",
       "    </tr>\n",
       "    <tr>\n",
       "      <th>2</th>\n",
       "      <td>536365</td>\n",
       "      <td>CREAM CUPID HEARTS COAT HANGER</td>\n",
       "      <td>2010-12-01</td>\n",
       "    </tr>\n",
       "    <tr>\n",
       "      <th>3</th>\n",
       "      <td>536365</td>\n",
       "      <td>KNITTED UNION FLAG HOT WATER BOTTLE</td>\n",
       "      <td>2010-12-01</td>\n",
       "    </tr>\n",
       "    <tr>\n",
       "      <th>4</th>\n",
       "      <td>536365</td>\n",
       "      <td>RED WOOLLY HOTTIE WHITE HEART.</td>\n",
       "      <td>2010-12-01</td>\n",
       "    </tr>\n",
       "  </tbody>\n",
       "</table>\n",
       "</div>"
      ],
      "text/plain": [
       "  InvoiceNo                          Description        date\n",
       "0    536365   WHITE HANGING HEART T-LIGHT HOLDER  2010-12-01\n",
       "1    536365                  WHITE METAL LANTERN  2010-12-01\n",
       "2    536365       CREAM CUPID HEARTS COAT HANGER  2010-12-01\n",
       "3    536365  KNITTED UNION FLAG HOT WATER BOTTLE  2010-12-01\n",
       "4    536365       RED WOOLLY HOTTIE WHITE HEART.  2010-12-01"
      ]
     },
     "execution_count": 22,
     "metadata": {},
     "output_type": "execute_result"
    }
   ],
   "source": [
    "df2['date'] = date\n",
    "df2.drop(['StockCode', 'Quantity', 'InvoiceDate', 'UnitPrice', 'CustomerID', 'Country'], axis = 1, inplace = True)\n",
    "df2.head()"
   ]
  },
  {
   "cell_type": "code",
   "execution_count": 23,
   "id": "914d582a-3b16-4809-b557-da0a106bacbd",
   "metadata": {},
   "outputs": [],
   "source": [
    "df2.drop_duplicates(inplace=True)"
   ]
  },
  {
   "cell_type": "code",
   "execution_count": 24,
   "id": "0723ff87-9c97-4288-a504-3d433fa44bcb",
   "metadata": {},
   "outputs": [
    {
     "data": {
      "text/plain": [
       "22190"
      ]
     },
     "execution_count": 24,
     "metadata": {},
     "output_type": "execute_result"
    }
   ],
   "source": [
    "records = df2.groupby(['InvoiceNo', 'date'])['Description'].apply(tuple).values.tolist()\n",
    "len(records)"
   ]
  },
  {
   "cell_type": "code",
   "execution_count": 25,
   "id": "009017c5-3dbb-4796-ab9f-24a22d430e93",
   "metadata": {},
   "outputs": [
    {
     "name": "stdout",
     "output_type": "stream",
     "text": [
      "1 - ('WHITE HANGING HEART T-LIGHT HOLDER', 'WHITE METAL LANTERN', 'CREAM CUPID HEARTS COAT HANGER', 'KNITTED UNION FLAG HOT WATER BOTTLE', 'RED WOOLLY HOTTIE WHITE HEART.', 'SET 7 BABUSHKA NESTING BOXES', 'GLASS STAR FROSTED T-LIGHT HOLDER')\n",
      "2 - ('HAND WARMER UNION JACK', 'HAND WARMER RED POLKA DOT')\n",
      "3 - ('ASSORTED COLOUR BIRD ORNAMENT', \"POPPY'S PLAYHOUSE BEDROOM \", \"POPPY'S PLAYHOUSE KITCHEN\", 'FELTCRAFT PRINCESS CHARLOTTE DOLL', 'IVORY KNITTED MUG COSY ', 'BOX OF 6 ASSORTED COLOUR TEASPOONS', 'BOX OF VINTAGE JIGSAW BLOCKS ', 'BOX OF VINTAGE ALPHABET BLOCKS', 'HOME BUILDING BLOCK WORD', 'LOVE BUILDING BLOCK WORD', 'RECIPE BOX WITH METAL HEART', 'DOORMAT NEW ENGLAND')\n",
      "4 - ('JAM MAKING SET WITH JARS', 'RED COAT RACK PARIS FASHION', 'YELLOW COAT RACK PARIS FASHION', 'BLUE COAT RACK PARIS FASHION')\n",
      "5 - ('BATH BUILDING BLOCK WORD',)\n"
     ]
    }
   ],
   "source": [
    "for e in range(5):\n",
    "    print(e+1, records[e], sep = \" - \")"
   ]
  },
  {
   "cell_type": "markdown",
   "id": "96a6d1ec-6a89-4602-9558-7abfc3ba8bf1",
   "metadata": {},
   "source": [
    "- We can now apply Association Rules just like in the first example on this data."
   ]
  },
  {
   "cell_type": "markdown",
   "id": "5befd16c-ef79-4498-a8d1-d2069099a5dc",
   "metadata": {},
   "source": [
    "# THE END"
   ]
  }
 ],
 "metadata": {
  "kernelspec": {
   "display_name": "Python 3",
   "language": "python",
   "name": "python3"
  },
  "language_info": {
   "codemirror_mode": {
    "name": "ipython",
    "version": 3
   },
   "file_extension": ".py",
   "mimetype": "text/x-python",
   "name": "python",
   "nbconvert_exporter": "python",
   "pygments_lexer": "ipython3",
   "version": "3.9.5"
  }
 },
 "nbformat": 4,
 "nbformat_minor": 5
}
